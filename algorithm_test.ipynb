{
 "cells": [
  {
   "cell_type": "code",
   "execution_count": 3,
   "id": "47e306b3-b574-4b33-998f-e2e359cef0e5",
   "metadata": {},
   "outputs": [
    {
     "name": "stdout",
     "output_type": "stream",
     "text": [
      "[(0, 0.0), (1, 0.0), (2, 0.3667390112974172)]\n",
      "\n",
      "\n",
      "[(0, 1.4142135623730951), (1, 1.4142135623730951), (2, 1.1253985860152684)]\n",
      "\n",
      "\n",
      "[(0, 3.23606797749979), (1, 3.0), (2, 2.49390872279154)]\n",
      "\n",
      "\n"
     ]
    }
   ],
   "source": [
    "# import the required packages\n",
    "import pandas as pd\n",
    "from sklearn.feature_extraction.text import TfidfVectorizer\n",
    "from sklearn.metrics.pairwise import cosine_similarity, euclidean_distances, manhattan_distances\n",
    "\n",
    "# Function that test different similarity metric algorithms\n",
    "def test_algorithms(test_text):\n",
    "\n",
    "    sentence_1 = \"I love telling comic stories with my family\"\n",
    "    sentence_2 = \"I dislike watching and playing soccer\"\n",
    "    sentence_3 = \"When I was much younger, I used to read novels with my siblings\"\n",
    "    text_4 = test_text\n",
    "\n",
    "    # Create a list from the sentences\n",
    "    texts = [sentence_1, sentence_2, sentence_3, text_4]\n",
    "\n",
    "    # Create a DataFrame with a column named as text\n",
    "    df = pd.DataFrame(texts, columns=['text'])\n",
    "\n",
    "    # Define a tfidf vectorizer and remove all stopwords.\n",
    "    tfidf = TfidfVectorizer(stop_words=\"english\")\n",
    "    \n",
    "    #Convert tfidf matrix by fitting and transforming the data.\n",
    "    tfidf_matrix = tfidf.fit_transform(texts)\n",
    "\n",
    "    # calculating the cosine similarity matrix\n",
    "    cosine_sim = cosine_similarity(tfidf_matrix, tfidf_matrix) \n",
    "\n",
    "    # calculating the euclidean distances matrix\n",
    "    ed_sim = euclidean_distances(tfidf_matrix, tfidf_matrix)\n",
    "\n",
    "    # calculating the manhattan distances matrix\n",
    "    md_sim = manhattan_distances(tfidf_matrix, tfidf_matrix)\n",
    " \n",
    "    #Construct a reverse map of indices and the texts\n",
    "    indices = pd.Series(df.index, index=df['text']).drop_duplicates()\n",
    "\n",
    "    # Get the index of the text that matches the sentences\n",
    "    idx = indices[text_4]\n",
    "\n",
    "    # Get the pairwsie similarity scores of all texts with that test text\n",
    "    sim_scores = list(enumerate(cosine_sim[idx]))\n",
    "\n",
    "    # Get the scores of the 3 most similar texts in the cosine similarity scores\n",
    "    sim_scores = sim_scores[0:3]\n",
    "    print(sim_scores)\n",
    "    print('\\n')\n",
    "\n",
    "    # Get the pairwsie similarity scores of all texts with that test text\n",
    "    ed_sim_scores = list(enumerate(ed_sim[idx]))\n",
    "    \n",
    "    # Get the scores of the 3 most similar texts in the euclidean distances scores\n",
    "    ed_sim_scores = ed_sim_scores[0:3]\n",
    "    print(ed_sim_scores)\n",
    "    print('\\n')\n",
    "    \n",
    "    # Get the pairwsie similarity scores of all texts with that test text\n",
    "    md_sim_scores = list(enumerate(md_sim[idx]))\n",
    "    \n",
    "    # Get the scores of the 3 most similar texts in the manhattan distances scores\n",
    "    md_sim_scores = md_sim_scores[0:3]\n",
    "    print(md_sim_scores)\n",
    "    print('\\n')\n",
    "\n",
    "test_text = 'read'\n",
    "test_algorithms(test_text)"
   ]
  }
 ],
 "metadata": {
  "kernelspec": {
   "display_name": "Python 3 (ipykernel)",
   "language": "python",
   "name": "python3"
  },
  "language_info": {
   "codemirror_mode": {
    "name": "ipython",
    "version": 3
   },
   "file_extension": ".py",
   "mimetype": "text/x-python",
   "name": "python",
   "nbconvert_exporter": "python",
   "pygments_lexer": "ipython3",
   "version": "3.10.6"
  }
 },
 "nbformat": 4,
 "nbformat_minor": 5
}
